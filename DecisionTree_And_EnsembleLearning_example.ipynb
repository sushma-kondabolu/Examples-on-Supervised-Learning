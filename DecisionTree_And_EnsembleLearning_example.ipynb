{
 "cells": [
  {
   "cell_type": "code",
   "execution_count": 1,
   "metadata": {},
   "outputs": [],
   "source": [
    "import numpy as np\n",
    "import pandas as pd\n",
    "from matplotlib import pyplot as plt\n",
    "from sklearn import datasets\n",
    "from sklearn.tree import DecisionTreeClassifier \n",
    "from sklearn import tree\n",
    "\n",
    "class Node():\n",
    "    def __init__(self, feature_name=None, threshold_val=None, left_child=None, right_child=None, info_gain=None, value=None):\n",
    "        self.feature_name=feature_name\n",
    "        self.threshold_val=threshold_val\n",
    "        self.left_child=left_child\n",
    "        self.right_child=right_child\n",
    "        self.info_gain=info_gain\n",
    "        self.value=value\n",
    "        "
   ]
  },
  {
   "cell_type": "markdown",
   "metadata": {},
   "source": [
    "1. Implementing Decision Tree"
   ]
  },
  {
   "cell_type": "code",
   "execution_count": 2,
   "metadata": {},
   "outputs": [],
   "source": [
    "class DecisionTree():\n",
    "    def __init__(self, min_splits=2, tree_depth=18446744073709551614):\n",
    "        self.root = None\n",
    "        self.min_splits = min_splits\n",
    "        self.tree_depth = tree_depth\n",
    "        \n",
    "    \n",
    "    def creating_dtree(self, dataset, current_depth=0):\n",
    "        \n",
    "        \n",
    "        X, Y = dataset[:,:-1], dataset[:,-1]\n",
    "        no_samples, no_features = np.shape(X)\n",
    "        \n",
    "        if no_samples>=self.min_splits and current_depth<=self.tree_depth:\n",
    "            dict_split_best = self.best_split(dataset, no_samples, no_features)\n",
    "            if dict_split_best[\"info_gain\"]>0:\n",
    "                subtree_left = self.creating_dtree(dict_split_best[\"dataset_left\"], current_depth+1)\n",
    "                subtree_right = self.creating_dtree(dict_split_best[\"dataset_right\"], current_depth+1)\n",
    "                return Node(dict_split_best[\"index\"], dict_split_best[\"threshold\"], \n",
    "                            subtree_left, subtree_right, dict_split_best[\"info_gain\"])\n",
    "        \n",
    "        leaf_value = self.calculate_decision_leaf_value(Y)\n",
    "        return Node(value=leaf_value)\n",
    "    def best_split(self, dataset, no_samples, no_features):\n",
    "        \n",
    "        best_split_dict = {}\n",
    "        max_info_gain = -float(\"inf\")\n",
    "\n",
    "        for index in range(no_features):\n",
    "            feature_values = dataset[:, index]\n",
    "            possible_thresholds = np.unique(feature_values)\n",
    "            for threshold in possible_thresholds:\n",
    "                dataset_left = np.array([row for row in dataset if row[index]<=threshold])\n",
    "                dataset_right = np.array([row for row in dataset if row[index]>threshold])\n",
    "                if len(dataset_left)>0 and len(dataset_right)>0:\n",
    "                    y, left_y, right_y = dataset[:, -1], dataset_left[:, -1], dataset_right[:, -1]\n",
    "                    curr_info_gain = self.information_gain(y, left_y, right_y)\n",
    "                    if curr_info_gain>max_info_gain:\n",
    "                        best_split_dict[\"index\"] = index\n",
    "                        best_split_dict[\"threshold\"] = threshold\n",
    "                        best_split_dict[\"dataset_left\"] = dataset_left\n",
    "                        best_split_dict[\"dataset_right\"] = dataset_right\n",
    "                        best_split_dict[\"info_gain\"] = curr_info_gain\n",
    "                        max_info_gain = curr_info_gain\n",
    "                        \n",
    "        return best_split_dict\n",
    "    \n",
    "    \n",
    "    def information_gain(self, parent, l_child, r_child):\n",
    "        \n",
    "        wt_l = len(l_child) / len(parent)\n",
    "        wt_r = len(r_child) / len(parent)\n",
    "        gain = self.entropy(parent) - (wt_l*self.entropy(l_child) + wt_r*self.entropy(r_child))\n",
    "        return gain\n",
    "    \n",
    "    def entropy(self, lst):\n",
    "        \n",
    "        class_labels = np.unique(lst)\n",
    "        entropy = 0\n",
    "        for cls in class_labels:\n",
    "            p_cls = len(lst[lst == cls]) / len(lst)\n",
    "            entropy += -p_cls * np.log2(p_cls)\n",
    "        return entropy\n",
    "    \n",
    "        \n",
    "    def calculate_decision_leaf_value(self, dt):\n",
    "        \n",
    "        \n",
    "        dt = list(dt)\n",
    "        return max(dt, key=dt.count)\n",
    "    \n",
    "    def print_tree(self, tree=None, indent=\" \"):\n",
    "        \n",
    "        if not tree:\n",
    "            tree = self.root\n",
    "\n",
    "        if tree.value is not None:\n",
    "            print(tree.value)\n",
    "\n",
    "        else:\n",
    "            print(\"X_\"+str(tree.feature_name), \"<=\", tree.threshold_val, \"?\", tree.info_gain)\n",
    "            print(\"%sleft:\" % (indent), end=\"\")\n",
    "            self.print_tree(tree.left_child, indent + indent)\n",
    "            print(\"%sright:\" % (indent), end=\"\")\n",
    "            self.print_tree(tree.right_child, indent + indent)\n",
    "    \n",
    "    def fit(self, X, Y):\n",
    "        \n",
    "        dataset = np.concatenate((X, Y), axis=1)\n",
    "        self.root = self.creating_dtree(dataset)\n",
    "    \n",
    "    def predict(self, X):\n",
    "        \n",
    "        predicted_vals = [self.make_prediction(x, self.root) for x in X]\n",
    "        return predicted_vals\n",
    "    \n",
    "    def make_prediction(self, x, tree):\n",
    "        \n",
    "        if tree.value!=None: return tree.value\n",
    "        feature_val = x[tree.feature_name]\n",
    "        if feature_val<=tree.threshold_val:\n",
    "            return self.make_prediction(x, tree.left_child)\n",
    "        else:\n",
    "            return self.make_prediction(x, tree.right_child)"
   ]
  },
  {
   "cell_type": "markdown",
   "metadata": {},
   "source": [
    "2. Implementing Decision Tree on Iris dataset"
   ]
  },
  {
   "cell_type": "code",
   "execution_count": 3,
   "metadata": {},
   "outputs": [],
   "source": [
    "from sklearn.datasets import load_iris\n",
    "\n",
    "iris = load_iris()\n",
    "X = iris.data\n",
    "y = iris.target\n",
    "\n",
    "df = pd.DataFrame(data=iris.data, columns=[\"sepal_length\", \"sepal_width\", \"petal_length\", \"petal_width\"])\n",
    " \n",
    "\n",
    "df[\"type\"] = iris.target\n",
    "\n",
    "\n"
   ]
  },
  {
   "cell_type": "code",
   "execution_count": 4,
   "metadata": {},
   "outputs": [],
   "source": [
    "X = df.iloc[:, :-1].values\n",
    "Y = df.iloc[:, -1].values.reshape(-1,1)\n",
    "from sklearn.model_selection import train_test_split\n",
    "X_train, X_test, Y_train, Y_test = train_test_split(X, Y, test_size=.4, random_state=41)"
   ]
  },
  {
   "cell_type": "code",
   "execution_count": 5,
   "metadata": {},
   "outputs": [
    {
     "name": "stdout",
     "output_type": "stream",
     "text": [
      "[1.0, 2.0, 2.0, 1.0, 2.0, 1.0, 2.0, 1.0, 2.0, 2.0, 2.0, 0.0, 0.0, 1.0, 0.0, 2.0, 0.0, 2.0, 0.0, 0.0, 1.0, 2.0, 0.0, 0.0, 1.0, 1.0, 1.0, 1.0, 0.0, 1.0, 1.0, 1.0, 1.0, 1.0, 2.0, 0.0, 2.0, 1.0, 2.0, 2.0, 1.0, 1.0, 0.0, 2.0, 2.0, 0.0, 2.0, 1.0, 0.0, 1.0, 2.0, 1.0, 2.0, 0.0, 0.0, 2.0, 2.0, 0.0, 1.0, 0.0]\n"
     ]
    }
   ],
   "source": [
    "model = DecisionTree(min_splits=3, tree_depth=5)\n",
    "model.fit(X_train, Y_train)\n",
    "\n",
    "preds = model.predict(X_test)\n",
    "print(preds)"
   ]
  },
  {
   "cell_type": "code",
   "execution_count": 6,
   "metadata": {},
   "outputs": [
    {
     "name": "stdout",
     "output_type": "stream",
     "text": [
      "X_2 <= 1.9 ? 0.9480782435939055\n",
      " left:0.0\n",
      " right:X_3 <= 1.7 ? 0.8137993698321951\n",
      "  left:X_2 <= 5.0 ? 0.35335933502142136\n",
      "    left:1.0\n",
      "    right:2.0\n",
      "  right:2.0\n"
     ]
    }
   ],
   "source": [
    "model.print_tree()"
   ]
  },
  {
   "cell_type": "markdown",
   "metadata": {},
   "source": [
    "3. Implementing Decision Tree classifier in Sklearn"
   ]
  },
  {
   "cell_type": "code",
   "execution_count": 7,
   "metadata": {},
   "outputs": [
    {
     "data": {
      "text/plain": [
       "array([1, 2, 2, 1, 2, 1, 2, 1, 2, 2, 2, 0, 0, 1, 0, 1, 0, 1, 0, 0, 1, 2,\n",
       "       0, 0, 1, 1, 1, 1, 0, 1, 1, 1, 1, 1, 2, 0, 2, 1, 2, 2, 1, 1, 0, 2,\n",
       "       2, 0, 2, 1, 0, 1, 2, 1, 2, 0, 0, 2, 2, 0, 1, 0])"
      ]
     },
     "execution_count": 7,
     "metadata": {},
     "output_type": "execute_result"
    }
   ],
   "source": [
    "skl_model= DecisionTreeClassifier (criterion='entropy')\n",
    "dtr= skl_model.fit(X_train, Y_train)\n",
    "s_preds=dtr.predict(X_test)\n",
    "s_preds"
   ]
  },
  {
   "cell_type": "code",
   "execution_count": 8,
   "metadata": {},
   "outputs": [
    {
     "data": {
      "image/png": "[encoded data removed]",
      "text/plain": [
       "<Figure size 432x288 with 1 Axes>"
      ]
     },
     "metadata": {
      "needs_background": "light"
     },
     "output_type": "display_data"
    }
   ],
   "source": [
    "pic = tree.plot_tree(dtr)"
   ]
  },
  {
   "cell_type": "code",
   "execution_count": 9,
   "metadata": {},
   "outputs": [
    {
     "name": "stdout",
     "output_type": "stream",
     "text": [
      "test set accuracy is for implemented tree: 0.9333333333333333\n",
      "test set accuracy is for implemented tree: 0.9333333333333333\n"
     ]
    }
   ],
   "source": [
    "from sklearn.metrics import accuracy_score\n",
    "print('test set accuracy is for implemented tree:',accuracy_score(Y_test, preds))\n",
    "print('test set accuracy is for implemented tree:',accuracy_score(Y_test, s_preds))"
   ]
  },
  {
   "cell_type": "markdown",
   "metadata": {},
   "source": [
    "The threshold values computed for the implemented tree and the Sci-kit learn classifier generated tree are almost same and the depth of tree generated is seeming to be same for iris dataset, but the end classification of target is seeming to be identical except for datatype. The accuracy score is also identical."
   ]
  }
 ],
 "metadata": {
  "kernelspec": {
   "display_name": "Python 3",
   "language": "python",
   "name": "python3"
  },
  "language_info": {
   "codemirror_mode": {
    "name": "ipython",
    "version": 3
   },
   "file_extension": ".py",
   "mimetype": "text/x-python",
   "name": "python",
   "nbconvert_exporter": "python",
   "pygments_lexer": "ipython3",
   "version": "3.8.5"
  }
 },
 "nbformat": 4,
 "nbformat_minor": 4
}
